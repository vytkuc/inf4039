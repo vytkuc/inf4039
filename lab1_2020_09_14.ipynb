{
 "cells": [
  {
   "cell_type": "markdown",
   "metadata": {},
   "source": [
    "# INF4039 Deep Learning Systems / Giliojo mokymo sistemų taikymai\n",
    "**LAB1** \n",
    "**Single layer perceptron**"
   ]
  },
  {
   "cell_type": "markdown",
   "metadata": {},
   "source": [
    "## Task 1."
   ]
  },
  {
   "cell_type": "markdown",
   "metadata": {},
   "source": [
    "Analyze what effect a **number of training iterations** has on the mse, training and testing errors. Explain the results.\n",
    "\n",
    "Note: the new random data set will be generated  in every experiment. You can add additional procedure to work with the same data (optional). It will enable you to compare the results in a correct way as you will work with the same data set."
   ]
  },
  {
   "cell_type": "markdown",
   "metadata": {},
   "source": [
    "## Task 2."
   ]
  },
  {
   "cell_type": "markdown",
   "metadata": {},
   "source": [
    "Analyze what effect a **learning rate niu** has on the mse, training and testing errors. Explain the results (niu>0)."
   ]
  },
  {
   "cell_type": "markdown",
   "metadata": {},
   "source": [
    "## Task 3"
   ]
  },
  {
   "cell_type": "markdown",
   "metadata": {},
   "source": [
    "Analyze what effect a **training set size**  has on the mse, training and testing errors. Explain the results."
   ]
  },
  {
   "cell_type": "markdown",
   "metadata": {},
   "source": [
    "## Task 4"
   ]
  },
  {
   "cell_type": "markdown",
   "metadata": {},
   "source": [
    "Analyze what effect a **distance between the classes** has on the mse, training and testing errors. \n",
    "Distance between the classes is presented as Mahalanobis distance. The larger the distance, the better class separability is. \n",
    "\n",
    "Change the mean values and correlation coefficient of the classes:\n",
    "\n",
    "mean1 = np.array([-0.5, 1])  #  mean vector class 2  \n",
    "mean2 = np.array([0.5, 0])   #  covariance matrix class 2  \n",
    "var1=1 # variance of x1 feature  \n",
    "var2=2 # variance of x2 feature  \n",
    "cor12=0.8 #correlation coefficient between x1 and x2  \n",
    "\n",
    "You can also make the class covariance matrices cov1 and cov2 not equal."
   ]
  },
  {
   "cell_type": "markdown",
   "metadata": {},
   "source": [
    "## Task 5 (advanced)"
   ]
  },
  {
   "cell_type": "markdown",
   "metadata": {},
   "source": [
    "Calculate the training and test errors for each class. "
   ]
  },
  {
   "cell_type": "markdown",
   "metadata": {},
   "source": [
    "## Data"
   ]
  },
  {
   "cell_type": "markdown",
   "metadata": {},
   "source": [
    "Data – artificially generated two-dimensional Gaussian data sets: class1 and class 2.  \n",
    " \n",
    "Single-layer perceptron will be trained to discriminate between these two classes.  \n",
    "\n",
    "Each class is decribed by a mean vector and covariance matrix:  "
   ]
  },
  {
   "cell_type": "raw",
   "metadata": {},
   "source": [
    "mean1 = np.array([-0.5, 1])  #  two-dimensional mean vector [x1 x2] of class 1\n",
    "mean2 = np.array([0.5, 0])   #  two-dimensional mean vector [x1 x2] of class 2 \n",
    "var1=1 # variance of x1 feature (the same for both classes A and B)\n",
    "var2=2 # variance of x2 feature (the same for both classes A and B)\n",
    "cor12=0.8 #correlation coefficient between features x1 and x2"
   ]
  },
  {
   "cell_type": "markdown",
   "metadata": {},
   "source": [
    "A size of a training set is defined (equal for each class). "
   ]
  },
  {
   "cell_type": "raw",
   "metadata": {},
   "source": [
    "N_train=100 # number of training samples\n",
    "N_test=100 # number of testing samples"
   ]
  },
  {
   "cell_type": "markdown",
   "metadata": {},
   "source": [
    "**Training set** is denoted: data_train1, data_train2.  \n",
    "**Test set** is denoted: data_test1, data_test2.  \n",
    "**Targets**: \n",
    "targets_train1 - zeros, targets_train2 - ones  \n",
    "targets_test1 - zeros, targets_test2 - ones  "
   ]
  },
  {
   "cell_type": "markdown",
   "metadata": {},
   "source": [
    "## Training and testing of a single layer perceptron"
   ]
  },
  {
   "cell_type": "markdown",
   "metadata": {},
   "source": [
    "Parameters for training:"
   ]
  },
  {
   "cell_type": "raw",
   "metadata": {},
   "source": [
    "#parameters for perceptron training\n",
    "niu = 0.2 # learning Rate\n",
    "epochs = 200"
   ]
  },
  {
   "cell_type": "markdown",
   "metadata": {},
   "source": [
    "To train and test a perceptron we will use the following functions:"
   ]
  },
  {
   "cell_type": "raw",
   "metadata": {},
   "source": [
    "# perceptron call\n",
    "perceptron = Perceptron(data_train, targets_train) \n",
    "\n",
    "#training\n",
    "mse=perceptron.train(epochs, niu) \n",
    "\n",
    "#training errors\n",
    "error_train, error_train_percent]=perceptron.errors(data_train, targets_train)\n",
    "    \n",
    "#testing errors\n",
    "[error_test, error_test_percent]=perceptron.errors(data_test, targets_test)"
   ]
  },
  {
   "cell_type": "markdown",
   "metadata": {},
   "source": [
    "The training is implemented in the method  \n",
    "    **def train(self, its, niu):**\n",
    "\n",
    "Analyze and understand the code and all methods.\n",
    "Pay attention to the training gradient descent procedure: "
   ]
  },
  {
   "cell_type": "raw",
   "metadata": {},
   "source": [
    "def train(self, its, niu):\n",
    "...\n",
    "\n",
    "for i in range(N): #over the samples \n",
    "     cost_prime = 2*(activation[i] - self.targets[i])\n",
    "     #weight change for a given sample\n",
    "     for j in range(p+1): #over the features\n",
    "     delta_weights[j][i] = cost_prime * inputs1[i][j] * \n",
    "self.sigmoid_deriv(z[i])\n",
    "                    \n",
    "     #average of the weight change over the learning samples and transpose\n",
    "     delta_avg = np.array([np.average(delta_weights, axis=1)]).T\n",
    "            \n",
    "     #weight update \n",
    "     self.weights = self.weights - niu * delta_avg"
   ]
  },
  {
   "cell_type": "markdown",
   "metadata": {},
   "source": [
    "At the end the figures are generated to present the mse, classification error during training, data and decision boundary, neuron output for data,  mse surface as a function of weights. Training and classification errors are printed."
   ]
  },
  {
   "cell_type": "markdown",
   "metadata": {},
   "source": [
    "## Code"
   ]
  },
  {
   "cell_type": "code",
   "execution_count": 1,
   "metadata": {},
   "outputs": [],
   "source": [
    "import numpy as np\n",
    "import matplotlib.pyplot as plt\n",
    "import math"
   ]
  },
  {
   "cell_type": "code",
   "execution_count": 2,
   "metadata": {},
   "outputs": [],
   "source": [
    "class Perceptron():\n",
    "    def __init__(self,inputs, targets):\n",
    "        self.inputs=inputs\n",
    "        self.targets=targets\n",
    "        [N,p]=self.inputs.shape #N - number of training samples, p - number of features\n",
    "        #random weight initialization\n",
    "        self.weights = np.random.rand(p+1,1)\n",
    "\n",
    "    def sigmoid(self, x):\n",
    "        #sigmoidal activation function\n",
    "        return (1 / (1 + np.exp(-x)))\n",
    "\n",
    "    def sigmoid_deriv(self, x):\n",
    "        #derivative of sigmoidal activation function\n",
    "        return np.exp(-x)/((1 + np.exp(-x))**2)\n",
    "\n",
    "    def train(self, its, niu):\n",
    "        #training\n",
    "        [N,p]=self.inputs.shape #N - number of training samples, p - number of features\n",
    "        #weight change initialization with zeros\n",
    "        delta_weights = np.zeros((p+1,N))\n",
    "        #mean square error vector initialization with zeros (for plotting)\n",
    "        self.mse=np.zeros(its)\n",
    "        #training iteration vector (for plotting)\n",
    "        self.T=list(range(its)) \n",
    "        \n",
    "        for iteration in (range(its)):\n",
    "            #adding the column of ones to the data matrix (for the bias weight w0)\n",
    "            one_column=np.ones((N,1))\n",
    "            inputs1=np.hstack((one_column, self.inputs)) #hstack - function to combine matrices\n",
    "            \n",
    "            #output = inputs * weights\n",
    "            z = np.dot(inputs1, self.weights)\n",
    "            \n",
    "            #output\n",
    "            activation = self.sigmoid(z)\n",
    "\n",
    "            #mean square error for plotting\n",
    "            self.mse[iteration] =sum((activation - self.targets)**2)/N \n",
    "      \n",
    "            # back propagation\n",
    "            for i in range(N): #over the samples \n",
    "                #square error: (output-targets)* (output-targets)\n",
    "                #cost = (activation[i] - real_outputs[i])**2\n",
    "                #derivative of the cost for a given training sample i\n",
    "                cost_prime = 2*(activation[i] - self.targets[i])\n",
    "                #weight change for a given sample\n",
    "                for j in range(p+1): #over the features\n",
    "                    delta_weights[j][i] = cost_prime * inputs1[i][j] * self.sigmoid_deriv(z[i])\n",
    "                    \n",
    "                    \n",
    "            #average of the weight change over the learning samples and transpose\n",
    "            delta_avg = np.array([np.average(delta_weights, axis=1)]).T\n",
    "            \n",
    "            #weight update \n",
    "            self.weights = self.weights - niu * delta_avg\n",
    "         \n",
    "            \n",
    "    def output(self, inputs):\n",
    "        inputs1=np.append([1], inputs) #hstack - function to combine matrices\n",
    "        #output for the inputs\n",
    "        return self.sigmoid(np.dot(inputs1, self.weights))\n",
    "    \n",
    "    \n",
    "    def errors(self, data_test, targets_test):\n",
    "        #testing perceptron\n",
    "        output_test = []\n",
    "        error_test = 0\n",
    "        #len(testing_data) -  returns the number of items (length) in an object.\n",
    "        #range(0, n) generates integers from 0 up to n, but not including n \n",
    "        N_test=len(data_test)\n",
    "        \n",
    "        for i in range(N_test):\n",
    "            #one testing sample\n",
    "            x_test = data_test[i]\n",
    "            #output for the testing sample\n",
    "            out = perceptron.output(x_test)\n",
    "            #append to the output list\n",
    "            output_test.append(out.tolist())\n",
    "            #round output to 0 or 1: allocate a class to every test sample\n",
    "            #np.rint: rounds to the nearest integer\n",
    "            #np.ravel:a 1-D array, containing the elements of the input, is returned\n",
    "            class_test=np.ravel(np.rint(output_test))\n",
    "            #convert to integer\n",
    "            class_test=class_test.astype(int)\n",
    "            #make test targets as 1-D array ([a,b]=targets_test.shape)\n",
    "            targets_test_1D=np.ravel(targets_test)\n",
    "            #calculate errors: difference between class predicted and target should be zero (small)\n",
    "            if abs (class_test[i]-targets_test_1D[i]) > 0.01:\n",
    "                #if class_test[i] !=targets_test_1D[i]:\n",
    "                    error_test+= 1\n",
    "            \n",
    "        error_test_percent= error_test/N_test*100         \n",
    "        #print results\n",
    "        print(\"Class observed\")    \n",
    "        print(targets_test_1D) # Class observed\n",
    "        print(\"Class predicted\")\n",
    "        print(class_test) # Class predicted\n",
    "        return error_test, error_test_percent \n",
    "               \n",
    "    #plot mse and data\n",
    "    def plot_mse(self):\n",
    "        fig = plt.figure(figsize=(6,4)) # indicating figure size\n",
    "        ax = fig.add_subplot(1, 1, 1)\n",
    "        ax.plot(self.T, self.mse, c='k')\n",
    "        ax.set_title('Mean square error mse', style='italic')\n",
    "        ax.set_ylabel('mse', style='italic')\n",
    "        ax.set_xlabel('iterations', style='italic')\n",
    "        plt.tight_layout()\n",
    "        plt.show()\n",
    "        fig.savefig('perceptron_mse.png')\n",
    "        \n",
    "    def plot_data(self, data1, data2):\n",
    "        #finding separating plane\n",
    "        #min and max x1\n",
    "        x1_min=min(np.append(data_train1[:,0],data_train2[:,0] ))\n",
    "        x1_max=max(np.append(data_train1[:,0],data_train2[:,0] ))\n",
    "        #calculating the corresponding x2 using the weights \n",
    "        x2_x1_min=(-self.weights[0]-self.weights[1]*x1_min)/self.weights[2]\n",
    "        x2_x1_max=(-self.weights[0]-self.weights[1]*x1_max)/self.weights[2]\n",
    "        #min and max x2\n",
    "        x2_min=min(np.append(data_train1[:,1],data_train2[:,1] ))\n",
    "        x2_max=max(np.append(data_train1[:,1],data_train2[:,1] ))\n",
    "        \n",
    "        #fig2=plt.figure(2)\n",
    "        fig = plt.figure(figsize=(6,4)) # indicating figure size\n",
    "        ax = fig.add_subplot(1, 1, 1)\n",
    "        #subfig1=fig2.add_subplot(211)\n",
    "        ax.plot(data1[:,0], data1[:,1], 'ro', data2[:,0], data2[:,1], 'bo')\n",
    "        ax.plot([x1_min, x1_max],  [x2_x1_min, x2_x1_max], 'k')\n",
    "        ax.set_ylim([x2_min,x2_max])\n",
    "        ax.set_title('Data and decision boundary', style='italic')\n",
    "        ax.set_ylabel('x1', style='italic')\n",
    "        ax.set_xlabel('x2', style='italic')\n",
    "        plt.tight_layout()\n",
    "        plt.show()\n",
    "        fig.savefig('perceptron_data.png')   "
   ]
  },
  {
   "cell_type": "code",
   "execution_count": 3,
   "metadata": {},
   "outputs": [
    {
     "name": "stdout",
     "output_type": "stream",
     "text": [
      "Class observed\n",
      "[0. 0. 0. 0. 0. 0. 0. 0. 0. 0. 0. 0. 0. 0. 0. 0. 0. 0. 0. 0. 0. 0. 0. 0.\n",
      " 0. 0. 0. 0. 0. 0. 0. 0. 0. 0. 0. 0. 0. 0. 0. 0. 0. 0. 0. 0. 0. 0. 0. 0.\n",
      " 0. 0. 0. 0. 0. 0. 0. 0. 0. 0. 0. 0. 0. 0. 0. 0. 0. 0. 0. 0. 0. 0. 0. 0.\n",
      " 0. 0. 0. 0. 0. 0. 0. 0. 0. 0. 0. 0. 0. 0. 0. 0. 0. 0. 0. 0. 0. 0. 0. 0.\n",
      " 0. 0. 0. 0. 1. 1. 1. 1. 1. 1. 1. 1. 1. 1. 1. 1. 1. 1. 1. 1. 1. 1. 1. 1.\n",
      " 1. 1. 1. 1. 1. 1. 1. 1. 1. 1. 1. 1. 1. 1. 1. 1. 1. 1. 1. 1. 1. 1. 1. 1.\n",
      " 1. 1. 1. 1. 1. 1. 1. 1. 1. 1. 1. 1. 1. 1. 1. 1. 1. 1. 1. 1. 1. 1. 1. 1.\n",
      " 1. 1. 1. 1. 1. 1. 1. 1. 1. 1. 1. 1. 1. 1. 1. 1. 1. 1. 1. 1. 1. 1. 1. 1.\n",
      " 1. 1. 1. 1. 1. 1. 1. 1.]\n",
      "Class predicted\n",
      "[0 0 0 1 0 0 0 0 0 0 0 0 0 0 0 1 0 0 0 0 0 0 0 0 0 0 0 1 0 0 0 0 0 0 0 0 0\n",
      " 0 0 0 0 0 0 0 0 0 1 0 0 0 0 0 0 0 0 0 0 0 0 0 0 0 0 0 0 0 0 0 0 0 0 0 1 1\n",
      " 0 0 0 0 0 0 0 0 0 0 0 0 0 0 0 0 0 0 0 0 0 0 0 0 0 0 1 1 0 1 1 1 1 1 1 1 1\n",
      " 1 1 1 1 1 1 1 1 1 1 1 1 1 1 1 1 1 1 0 1 1 1 1 1 1 1 1 1 1 1 1 1 1 1 1 1 1\n",
      " 1 1 1 1 1 0 1 1 1 0 1 1 1 0 1 1 1 1 1 1 1 1 1 1 1 1 1 1 1 1 1 1 1 1 1 1 1\n",
      " 1 1 1 1 1 1 1 1 1 1 1 1 1 1 0]\n",
      "Training errors:  12\n",
      "Training errors:  6.0 %\n",
      "Class observed\n",
      "[0. 0. 0. 0. 0. 0. 0. 0. 0. 0. 0. 0. 0. 0. 0. 0. 0. 0. 0. 0. 0. 0. 0. 0.\n",
      " 0. 0. 0. 0. 0. 0. 0. 0. 0. 0. 0. 0. 0. 0. 0. 0. 0. 0. 0. 0. 0. 0. 0. 0.\n",
      " 0. 0. 0. 0. 0. 0. 0. 0. 0. 0. 0. 0. 0. 0. 0. 0. 0. 0. 0. 0. 0. 0. 0. 0.\n",
      " 0. 0. 0. 0. 0. 0. 0. 0. 0. 0. 0. 0. 0. 0. 0. 0. 0. 0. 0. 0. 0. 0. 0. 0.\n",
      " 0. 0. 0. 0. 1. 1. 1. 1. 1. 1. 1. 1. 1. 1. 1. 1. 1. 1. 1. 1. 1. 1. 1. 1.\n",
      " 1. 1. 1. 1. 1. 1. 1. 1. 1. 1. 1. 1. 1. 1. 1. 1. 1. 1. 1. 1. 1. 1. 1. 1.\n",
      " 1. 1. 1. 1. 1. 1. 1. 1. 1. 1. 1. 1. 1. 1. 1. 1. 1. 1. 1. 1. 1. 1. 1. 1.\n",
      " 1. 1. 1. 1. 1. 1. 1. 1. 1. 1. 1. 1. 1. 1. 1. 1. 1. 1. 1. 1. 1. 1. 1. 1.\n",
      " 1. 1. 1. 1. 1. 1. 1. 1.]\n",
      "Class predicted\n",
      "[0 0 0 0 0 0 0 0 0 0 0 0 0 0 0 0 0 0 0 0 0 0 0 0 0 1 0 0 1 0 0 0 0 0 0 0 0\n",
      " 0 0 0 0 0 0 0 0 0 0 0 0 0 0 0 0 0 1 0 0 0 0 0 0 0 0 0 1 0 0 0 0 0 0 0 0 0\n",
      " 0 0 0 0 1 0 0 0 0 0 0 0 0 0 0 0 0 0 1 0 0 0 0 0 0 0 1 1 1 1 1 1 1 1 0 1 1\n",
      " 1 1 0 1 1 1 1 1 1 1 1 0 1 1 1 1 1 1 1 0 0 1 1 1 1 1 1 1 0 1 1 1 1 1 1 0 1\n",
      " 1 0 1 1 1 1 1 0 1 1 1 1 0 1 1 1 1 1 1 1 1 0 1 1 1 1 1 1 1 1 0 1 0 1 1 1 1\n",
      " 1 1 1 1 1 1 1 1 1 1 1 1 1 1 1]\n",
      "Test errors:  19\n",
      "Test errors:  9.5 %\n"
     ]
    },
    {
     "data": {
      "image/png": "[encoded data removed]",
      "text/plain": [
       "<Figure size 432x288 with 1 Axes>"
      ]
     },
     "metadata": {
      "needs_background": "light"
     },
     "output_type": "display_data"
    },
    {
     "data": {
      "image/png": "[encoded data removed]",
      "text/plain": [
       "<Figure size 432x288 with 1 Axes>"
      ]
     },
     "metadata": {
      "needs_background": "light"
     },
     "output_type": "display_data"
    },
    {
     "data": {
      "image/png": "[encoded data removed]",
      "text/plain": [
       "<Figure size 432x288 with 1 Axes>"
      ]
     },
     "metadata": {
      "needs_background": "light"
     },
     "output_type": "display_data"
    },
    {
     "name": "stdout",
     "output_type": "stream",
     "text": [
      "Mahalanobis distance between classes:  2.7 \n"
     ]
    }
   ],
   "source": [
    "if __name__ == \"__main__\":\n",
    "\n",
    "    #------------------------------------------------------\n",
    "    #Parameters data\n",
    "    #------------------------------------------------------\n",
    "   \n",
    "    #parameters for perceptron training\n",
    "    niu = 0.2 # learning Rate\n",
    "    epochs = 200\n",
    "    \n",
    "    N_train=100 # number of training samples\n",
    "    N_test=100 # number of testing samples\n",
    "    \n",
    "    #parameters for data generation\n",
    "    #two dimensional Gaussian distribution  \n",
    "    mean1 = np.array([-0.5, 1])  #  mean vector class 1\n",
    "    mean2 = np.array([0.5, 0])   #  mean vector class 2\n",
    "    var1=1 # variance of x1 feature \n",
    "    var2=2 # variance of x2 feature \n",
    "    cor12=0.8 #correlation coefficient between x1 and x2\n",
    "    \n",
    "    #------------------------------------------------------\n",
    "    #Data generation\n",
    "    #------------------------------------------------------\n",
    "       \n",
    "    cov12=cor12*math.sqrt(var1)*math.sqrt(var2) #covariance\n",
    "    cov1 = np.array([[var1, cov12], [cov12, var2]])  #  covariance matrix class 1\n",
    "    cov2 = cov1  #  covariance matrix class 2\n",
    "    data_train1 = np.random.multivariate_normal(mean1, cov1, N_train)\n",
    "    data_train2 = np.random.multivariate_normal(mean2, cov2, N_train)\n",
    "    targets_train1=np.zeros((N_train, 1))\n",
    "    targets_train2=np.ones((N_train, 1))\n",
    "    data_train=np.append(data_train1,data_train2, axis=0 )\n",
    "    targets_train=np.append(targets_train1,targets_train2, axis=0 )\n",
    "    \n",
    "    data_test1 = np.random.multivariate_normal(mean1, cov1, N_test)\n",
    "    data_test2 = np.random.multivariate_normal(mean2, cov2, N_test)\n",
    "    targets_test1=np.zeros((N_test, 1))\n",
    "    targets_test2=np.ones((N_test, 1))\n",
    "    data_test=np.append(data_test1,data_test2, axis=0 )\n",
    "    targets_test=np.append(targets_test1,targets_test2, axis=0 )\n",
    "    \n",
    "    #difference between means \n",
    "    mdiff=mean1-mean2\n",
    "    #inversion of covariance matrix\n",
    "    inv_cov1=np.linalg.inv(cov1)\n",
    "    #np.array((mean1-mean2)).T - transpose of (mean1-mean2)  \n",
    "    #np.array((mean1-mean2)).T\n",
    "    m0=np.dot(mdiff,inv_cov1)\n",
    "    mahalanobis_distance_square=np.dot(m0,mdiff)\n",
    "    mahalanobis_distance=math.sqrt(mahalanobis_distance_square)\n",
    "    \n",
    "      \n",
    "    #------------------------------------------------------\n",
    "    #Single layer perceptron\n",
    "    #------------------------------------------------------\n",
    "    # perceptron call\n",
    "    perceptron = Perceptron(data_train, targets_train) \n",
    "    #training\n",
    "    mse=perceptron.train(epochs, niu) \n",
    "    #training errors\n",
    "    [error_train, error_train_percent]=perceptron.errors(data_train, targets_train)\n",
    "    print(\"Training errors: %3d\" % (error_train))\n",
    "    print(\"Training errors: %4.1f %%\" % (error_train_percent))\n",
    "    #testing errors\n",
    "    [error_test, error_test_percent]=perceptron.errors(data_test, targets_test)\n",
    "    print(\"Test errors: %3d\" % (error_test))\n",
    "    print(\"Test errors: %4.1f %%\" % (error_test_percent))\n",
    "    \n",
    "        \n",
    "    #plot mse and data\n",
    "    perceptron.plot_mse() \n",
    "    perceptron.plot_data(data_train1, data_train2) \n",
    "    perceptron.plot_data(data_test1, data_test2) \n",
    "    print(\"Mahalanobis distance between classes: %4.1f \" % (mahalanobis_distance))"
   ]
  }
 ],
 "metadata": {
  "kernelspec": {
   "display_name": "Python 3",
   "language": "python",
   "name": "python3"
  },
  "language_info": {
   "codemirror_mode": {
    "name": "ipython",
    "version": 3
   },
   "file_extension": ".py",
   "mimetype": "text/x-python",
   "name": "python",
   "nbconvert_exporter": "python",
   "pygments_lexer": "ipython3",
   "version": "3.7.6"
  }
 },
 "nbformat": 4,
 "nbformat_minor": 4
}
